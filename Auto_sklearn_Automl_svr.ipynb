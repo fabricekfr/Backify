{
  "nbformat": 4,
  "nbformat_minor": 0,
  "metadata": {
    "colab": {
      "name": "Auto-sklearn_Automl-svr.ipynb",
      "provenance": [],
      "machine_shape": "hm",
      "authorship_tag": "ABX9TyNyhDkXITAfxPFwHC/r8EWy",
      "include_colab_link": true
    },
    "kernelspec": {
      "name": "python3",
      "display_name": "Python 3"
    },
    "accelerator": "GPU"
  },
  "cells": [
    {
      "cell_type": "markdown",
      "metadata": {
        "id": "view-in-github",
        "colab_type": "text"
      },
      "source": [
        "<a href=\"https://colab.research.google.com/github/fabricekfr/Backify/blob/master/Auto_sklearn_Automl_svr.ipynb\" target=\"_parent\"><img src=\"https://colab.research.google.com/assets/colab-badge.svg\" alt=\"Open In Colab\"/></a>"
      ]
    },
    {
      "cell_type": "code",
      "metadata": {
        "id": "_gfnd3LL4Dsq"
      },
      "source": [
        "#@title\n",
        "!apt-get -y install build-essential swig\n",
        "!curl https://raw.githubusercontent.com/automl/auto-sklearn/master/requirements.txt | xargs -n 1 -L 1 pip3 install\n",
        "!pip3 install auto-sklearn"
      ],
      "execution_count": null,
      "outputs": []
    },
    {
      "cell_type": "code",
      "metadata": {
        "id": "T6nFncQj4exk"
      },
      "source": [
        "from ConfigSpace.configuration_space import ConfigurationSpace\n",
        "from ConfigSpace.hyperparameters import UniformFloatHyperparameter, \\\n",
        "    UniformIntegerHyperparameter, CategoricalHyperparameter\n",
        "\n",
        "import sklearn.metrics\n",
        "import autosklearn\n",
        "import autosklearn.regression\n",
        "import autosklearn.pipeline.components.regression\n",
        "from autosklearn.pipeline.components.base import AutoSklearnRegressionAlgorithm\n",
        "from autosklearn.pipeline.constants import SPARSE, DENSE, \\\n",
        "    SIGNED_DATA, UNSIGNED_DATA, PREDICTIONS\n",
        "\n",
        "import pandas as pd\n",
        "import datetime\n",
        "import numpy as np\n",
        "from sklearn.metrics import mean_squared_error\n",
        "from sklearn.metrics import mean_absolute_error\n",
        "import tensorflow as tf"
      ],
      "execution_count": 3,
      "outputs": []
    },
    {
      "cell_type": "code",
      "metadata": {
        "id": "o6xqFBMZ6NWX"
      },
      "source": [
        "def series_to_supervised(data, n_in=1, n_out=1, dropnan=True):\n",
        "\tn_vars = 1 if type(data) is list else data.shape[1]\n",
        "\tdf = pd.DataFrame(data)\n",
        "\tcols, names = list(), list()\n",
        "\t# input sequence (t-n, ... t-1)\n",
        "\tfor i in range(n_in, 0, -1):\n",
        "\t\tcols.append(df.shift(i))\n",
        "\t\tnames += [('var%d(t-%d)' % (j+1, i)) for j in range(n_vars)]\n",
        "\t# forecast sequence (t, t+1, ... t+n)\n",
        "\tfor i in range(0, n_out):\n",
        "\t\tcols.append(df.shift(-i))\n",
        "\t\tif i == 0:\n",
        "\t\t\tnames += [('var%d(t)' % (j+1)) for j in range(n_vars)]\n",
        "\t\telse:\n",
        "\t\t\tnames += [('var%d(t+%d)' % (j+1, i)) for j in range(n_vars)]\n",
        "\t# put it all together\n",
        "\tagg = pd.concat(cols, axis=1)\n",
        "\tagg.columns = names\n",
        "\t# drop rows with NaN values\n",
        "\tif dropnan:\n",
        "\t\tagg.dropna(inplace=True)\n",
        "\treturn agg"
      ],
      "execution_count": 4,
      "outputs": []
    },
    {
      "cell_type": "code",
      "metadata": {
        "id": "u7NbDjbE6bDT"
      },
      "source": [
        "df_full_sample = pd.read_csv('/content/df_full_sample.csv')\n",
        "date_times = pd.to_datetime(df_full_sample.pop('timestamp'), format=\"%Y-%m-%d %H:%M:%S\")"
      ],
      "execution_count": 5,
      "outputs": []
    },
    {
      "cell_type": "code",
      "metadata": {
        "id": "JRJR9j0k6dWx",
        "outputId": "517b1437-340d-410d-e5ce-00ec73ceacaf",
        "colab": {
          "base_uri": "https://localhost:8080/",
          "height": 34
        }
      },
      "source": [
        "timestamp_s = date_times.map(datetime.datetime.timestamp)\n",
        "day = 24*60*60\n",
        "year = (365.2425)*day\n",
        "\n",
        "df_full_sample['Day sin'] = np.sin(timestamp_s * (2 * np.pi / day))\n",
        "df_full_sample['Day cos'] = np.cos(timestamp_s * (2 * np.pi / day))\n",
        "df_full_sample['Year sin'] = np.sin(timestamp_s * (2 * np.pi / year))\n",
        "df_full_sample['Year cos'] = np.cos(timestamp_s * (2 * np.pi / year))"
      ],
      "execution_count": 6,
      "outputs": [
        {
          "output_type": "stream",
          "text": [
            "INFO:numexpr.utils:NumExpr defaulting to 4 threads.\n"
          ],
          "name": "stderr"
        }
      ]
    },
    {
      "cell_type": "code",
      "metadata": {
        "id": "rg18uG7t6gA0"
      },
      "source": [
        "# specify the number of lag hours\n",
        "n_hours = 24\n",
        "n_features = 8\n",
        "# frame as supervised learning\n",
        "df_full_sample_reframed = series_to_supervised(df_full_sample, n_hours, 24)\n",
        "yColumnIndex = df_full_sample.columns.get_loc('meter_reading')+1\n",
        "for column in df_full_sample_reframed.columns:\n",
        "\t if ('-' not in column) & (f\"var{yColumnIndex}\" not in column):\n",
        "\t\t del df_full_sample_reframed[column]"
      ],
      "execution_count": 7,
      "outputs": []
    },
    {
      "cell_type": "code",
      "metadata": {
        "id": "64ZV56yD6ich"
      },
      "source": [
        "n = len(df_full_sample_reframed)\n",
        "df_train = df_full_sample_reframed[0:int(n*0.8)]\n",
        "\n",
        "df_test = df_full_sample_reframed[int(n*0.8):]\n",
        "\n",
        "\n",
        "train_mean = df_train.mean()\n",
        "train_std = df_train.std()\n",
        "\n",
        "df_train = (df_train - train_mean) / train_std\n",
        "df_test = (df_test - train_mean) / train_std"
      ],
      "execution_count": 8,
      "outputs": []
    },
    {
      "cell_type": "code",
      "metadata": {
        "id": "WX2Vgvo66lVy",
        "outputId": "600b9f40-7afe-4e92-fc1c-99c0b616d420",
        "colab": {
          "base_uri": "https://localhost:8080/",
          "height": 34
        }
      },
      "source": [
        "# split into input and outputs\n",
        "n_obs = n_hours * n_features\n",
        "train_X, train_y = df_train.values[:, :n_obs], df_train.values[:, n_obs:]\n",
        "test_X, test_y = df_test.values[:, :n_obs], df_test.values[:, n_obs:]\n",
        "print(train_X.shape, train_y.shape, test_X.shape, test_y.shape)"
      ],
      "execution_count": 9,
      "outputs": [
        {
          "output_type": "stream",
          "text": [
            "(804416, 192) (804416, 24) (201105, 192) (201105, 24)\n"
          ],
          "name": "stdout"
        }
      ]
    },
    {
      "cell_type": "code",
      "metadata": {
        "id": "ctYlnkS36xyI",
        "outputId": "28547c67-9414-41ee-c859-70c27a2ae944",
        "colab": {
          "base_uri": "https://localhost:8080/",
          "height": 751
        }
      },
      "source": [
        "automl  = autosklearn.regression.AutoSklearnRegressor(\n",
        "    time_left_for_this_task=60,\n",
        "    per_run_time_limit=20,\n",
        "    include_estimators=['libsvm_svr'],\n",
        "    resampling_strategy='holdout',\n",
        "    resampling_strategy_arguments={'train_size': 0.75},\n",
        "    ensemble_memory_limit=2*1024,\n",
        "    ml_memory_limit=5*1024,\n",
        "    #metric=autosklearn.metrics.mean_absolute_error\n",
        ")\n",
        "\n",
        "from sklearn.multioutput import RegressorChain\n",
        "wrapper = RegressorChain(automl)\n",
        "wrapper.fit(train_X, train_y)"
      ],
      "execution_count": 10,
      "outputs": [
        {
          "output_type": "stream",
          "text": [
            "/usr/local/lib/python3.6/dist-packages/sklearn/base.py:197: FutureWarning: From version 0.24, get_params will raise an AttributeError if a parameter cannot be retrieved as an instance attribute. Previously it would return None.\n",
            "  FutureWarning)\n"
          ],
          "name": "stderr"
        },
        {
          "output_type": "stream",
          "text": [
            "[WARNING] [2020-10-19 01:14:17,708:AutoML(1):c489b4b88fe635c9104f4e32b00701b9] Capping the per_run_time_limit to 19.0 to have time for a least 2 models in each process.\n",
            "[WARNING] [2020-10-19 01:15:19,741:AutoML(1):744eb6f2ae2a169a86c95b8d195420e1] Capping the per_run_time_limit to 18.0 to have time for a least 2 models in each process.\n",
            "[WARNING] [2020-10-19 01:16:16,722:AutoML(1):02c24554ccb4615ac88f0aaa5bcd7c73] Capping the per_run_time_limit to 19.0 to have time for a least 2 models in each process.\n",
            "[WARNING] [2020-10-19 01:20:18,078:AutoML(1):0b556e5d442af36de0b7841b531b1615] Capping the per_run_time_limit to 18.0 to have time for a least 2 models in each process.\n",
            "[WARNING] [2020-10-19 01:21:18,402:AutoML(1):983a63de013509914b5e386712bf16c9] Capping the per_run_time_limit to 17.0 to have time for a least 2 models in each process.\n",
            "[WARNING] [2020-10-19 01:22:18,704:AutoML(1):d55b590dbfcaf558b7e37e592e2470d2] Capping the per_run_time_limit to 17.0 to have time for a least 2 models in each process.\n",
            "[WARNING] [2020-10-19 01:23:17,644:AutoML(1):173685609be40be77e82a7afdbc94eda] Capping the per_run_time_limit to 17.0 to have time for a least 2 models in each process.\n",
            "[WARNING] [2020-10-19 01:24:17,495:AutoML(1):76098772aa1ae3799e855ebd91e0d3c3] Capping the per_run_time_limit to 17.0 to have time for a least 2 models in each process.\n",
            "[WARNING] [2020-10-19 01:25:17,185:AutoML(1):ce6ffcf41ab6f252c5b81b59a9edf149] Capping the per_run_time_limit to 17.0 to have time for a least 2 models in each process.\n",
            "[WARNING] [2020-10-19 01:26:17,358:AutoML(1):97a3ee0b0e077cbec331805d3cd8641f] Capping the per_run_time_limit to 17.0 to have time for a least 2 models in each process.\n",
            "[WARNING] [2020-10-19 01:27:17,780:AutoML(1):49c5ff0b5bb0e4cf000f5bfcd273d5c9] Capping the per_run_time_limit to 17.0 to have time for a least 2 models in each process.\n"
          ],
          "name": "stdout"
        },
        {
          "output_type": "stream",
          "text": [
            "/usr/local/lib/python3.6/dist-packages/sklearn/base.py:197: FutureWarning: From version 0.24, get_params will raise an AttributeError if a parameter cannot be retrieved as an instance attribute. Previously it would return None.\n",
            "  FutureWarning)\n"
          ],
          "name": "stderr"
        },
        {
          "output_type": "execute_result",
          "data": {
            "text/plain": [
              "RegressorChain(base_estimator=AutoSklearnRegressor(dask_client=None,\n",
              "                                                   delete_output_folder_after_terminate=True,\n",
              "                                                   delete_tmp_folder_after_terminate=True,\n",
              "                                                   disable_evaluator_output=False,\n",
              "                                                   ensemble_memory_limit=2048,\n",
              "                                                   ensemble_nbest=50,\n",
              "                                                   ensemble_size=50,\n",
              "                                                   exclude_estimators=None,\n",
              "                                                   exclude_preprocessors=None,\n",
              "                                                   get_smac_object_callback=None,\n",
              "                                                   include_estimators=['libsvm...\n",
              "                                                   initial_configurations_via_metalearning=25,\n",
              "                                                   logging_config=None,\n",
              "                                                   max_models_on_disc=50,\n",
              "                                                   metadata_directory=None,\n",
              "                                                   metric=None,\n",
              "                                                   ml_memory_limit=5120,\n",
              "                                                   n_jobs=None,\n",
              "                                                   output_folder=None,\n",
              "                                                   per_run_time_limit=20,\n",
              "                                                   resampling_strategy='holdout',\n",
              "                                                   resampling_strategy_arguments={'train_size': 0.75},\n",
              "                                                   seed=1,\n",
              "                                                   smac_scenario_args=None,\n",
              "                                                   time_left_for_this_task=60,\n",
              "                                                   tmp_folder=None),\n",
              "               cv=None, order=None, random_state=None)"
            ]
          },
          "metadata": {
            "tags": []
          },
          "execution_count": 10
        }
      ]
    },
    {
      "cell_type": "code",
      "metadata": {
        "id": "yQX-tkPj8giQ",
        "outputId": "5372781b-e0e0-4bb1-fbee-4a61919c8422",
        "colab": {
          "base_uri": "https://localhost:8080/",
          "height": 85
        }
      },
      "source": [
        "# Print prediction score and statistics\n",
        "# =====================================\n",
        "pred_y = wrapper.predict(test_X)\n",
        "#print(wrapper.sprint_statistics())\n",
        "print(\"MAE score: \", mean_absolute_error(pred_y, test_y))\n",
        "print(\"RMSE score: \", mean_squared_error(pred_y, test_y, squared=True))\n",
        "print(\"MAPE score: \", np.mean(tf.keras.losses.mape(test_y, pred_y).numpy()))\n",
        "#print(automl.show_models())\n",
        "print(\"r2 score: \", sklearn.metrics.r2_score(pred_y, test_y))"
      ],
      "execution_count": 11,
      "outputs": [
        {
          "output_type": "stream",
          "text": [
            "MAE score:  0.4695889855288702\n",
            "RMSE score:  0.4224103313924225\n",
            "MAPE score:  100.36293795652037\n",
            "r2 score:  0.0\n"
          ],
          "name": "stdout"
        }
      ]
    }
  ]
}