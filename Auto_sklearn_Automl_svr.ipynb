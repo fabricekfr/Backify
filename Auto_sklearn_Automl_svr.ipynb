{
  "nbformat": 4,
  "nbformat_minor": 0,
  "metadata": {
    "colab": {
      "name": "Auto-sklearn_Automl-svr.ipynb",
      "provenance": [],
      "machine_shape": "hm",
      "authorship_tag": "ABX9TyM4E5ES5inHFe68E9rRkKAB",
      "include_colab_link": true
    },
    "kernelspec": {
      "name": "python3",
      "display_name": "Python 3"
    },
    "accelerator": "GPU"
  },
  "cells": [
    {
      "cell_type": "markdown",
      "metadata": {
        "id": "view-in-github",
        "colab_type": "text"
      },
      "source": [
        "<a href=\"https://colab.research.google.com/github/fabricekfr/Backify/blob/master/Auto_sklearn_Automl_svr.ipynb\" target=\"_parent\"><img src=\"https://colab.research.google.com/assets/colab-badge.svg\" alt=\"Open In Colab\"/></a>"
      ]
    },
    {
      "cell_type": "code",
      "metadata": {
        "id": "_gfnd3LL4Dsq"
      },
      "source": [
        "#@title\n",
        "!apt-get -y install build-essential swig\n",
        "!curl https://raw.githubusercontent.com/automl/auto-sklearn/master/requirements.txt | xargs -n 1 -L 1 pip3 install\n",
        "!pip3 install auto-sklearn"
      ],
      "execution_count": null,
      "outputs": []
    },
    {
      "cell_type": "code",
      "metadata": {
        "id": "T6nFncQj4exk"
      },
      "source": [
        "from ConfigSpace.configuration_space import ConfigurationSpace\n",
        "from ConfigSpace.hyperparameters import UniformFloatHyperparameter, \\\n",
        "    UniformIntegerHyperparameter, CategoricalHyperparameter\n",
        "\n",
        "import sklearn.metrics\n",
        "import autosklearn\n",
        "import autosklearn.regression\n",
        "import autosklearn.pipeline.components.regression\n",
        "from autosklearn.pipeline.components.base import AutoSklearnRegressionAlgorithm\n",
        "from autosklearn.pipeline.constants import SPARSE, DENSE, \\\n",
        "    SIGNED_DATA, UNSIGNED_DATA, PREDICTIONS\n",
        "\n",
        "import pandas as pd\n",
        "import datetime\n",
        "import numpy as np\n",
        "from sklearn.metrics import mean_squared_error\n",
        "from sklearn.metrics import mean_absolute_error\n",
        "import tensorflow as tf"
      ],
      "execution_count": 2,
      "outputs": []
    },
    {
      "cell_type": "code",
      "metadata": {
        "id": "o6xqFBMZ6NWX"
      },
      "source": [
        "def series_to_supervised(data, n_in=1, n_out=1, dropnan=True):\n",
        "\tn_vars = 1 if type(data) is list else data.shape[1]\n",
        "\tdf = pd.DataFrame(data)\n",
        "\tcols, names = list(), list()\n",
        "\t# input sequence (t-n, ... t-1)\n",
        "\tfor i in range(n_in, 0, -1):\n",
        "\t\tcols.append(df.shift(i))\n",
        "\t\tnames += [('var%d(t-%d)' % (j+1, i)) for j in range(n_vars)]\n",
        "\t# forecast sequence (t, t+1, ... t+n)\n",
        "\tfor i in range(0, n_out):\n",
        "\t\tcols.append(df.shift(-i))\n",
        "\t\tif i == 0:\n",
        "\t\t\tnames += [('var%d(t)' % (j+1)) for j in range(n_vars)]\n",
        "\t\telse:\n",
        "\t\t\tnames += [('var%d(t+%d)' % (j+1, i)) for j in range(n_vars)]\n",
        "\t# put it all together\n",
        "\tagg = pd.concat(cols, axis=1)\n",
        "\tagg.columns = names\n",
        "\t# drop rows with NaN values\n",
        "\tif dropnan:\n",
        "\t\tagg.dropna(inplace=True)\n",
        "\treturn agg"
      ],
      "execution_count": 3,
      "outputs": []
    },
    {
      "cell_type": "code",
      "metadata": {
        "id": "u7NbDjbE6bDT"
      },
      "source": [
        "df_full_sample = pd.read_csv('/content/df_full_sample.csv')\n",
        "date_times = pd.to_datetime(df_full_sample.pop('timestamp'), format=\"%Y-%m-%d %H:%M:%S\")"
      ],
      "execution_count": 4,
      "outputs": []
    },
    {
      "cell_type": "code",
      "metadata": {
        "id": "JRJR9j0k6dWx",
        "outputId": "3d174892-2037-4bcb-c81a-47c24f6412d0",
        "colab": {
          "base_uri": "https://localhost:8080/",
          "height": 34
        }
      },
      "source": [
        "timestamp_s = date_times.map(datetime.datetime.timestamp)\n",
        "day = 24*60*60\n",
        "year = (365.2425)*day\n",
        "\n",
        "df_full_sample['Day sin'] = np.sin(timestamp_s * (2 * np.pi / day))\n",
        "df_full_sample['Day cos'] = np.cos(timestamp_s * (2 * np.pi / day))\n",
        "df_full_sample['Year sin'] = np.sin(timestamp_s * (2 * np.pi / year))\n",
        "df_full_sample['Year cos'] = np.cos(timestamp_s * (2 * np.pi / year))"
      ],
      "execution_count": 5,
      "outputs": [
        {
          "output_type": "stream",
          "text": [
            "INFO:numexpr.utils:NumExpr defaulting to 4 threads.\n"
          ],
          "name": "stderr"
        }
      ]
    },
    {
      "cell_type": "code",
      "metadata": {
        "id": "rg18uG7t6gA0"
      },
      "source": [
        "# specify the number of lag hours\n",
        "n_hours = 24\n",
        "n_features = 8\n",
        "# frame as supervised learning\n",
        "df_full_sample_reframed = series_to_supervised(df_full_sample, n_hours, 24)\n",
        "yColumnIndex = df_full_sample.columns.get_loc('meter_reading')+1\n",
        "for column in df_full_sample_reframed.columns:\n",
        "\t if ('-' not in column) & (f\"var{yColumnIndex}\" not in column):\n",
        "\t\t del df_full_sample_reframed[column]"
      ],
      "execution_count": 6,
      "outputs": []
    },
    {
      "cell_type": "code",
      "metadata": {
        "id": "64ZV56yD6ich"
      },
      "source": [
        "n = len(df_full_sample_reframed)\n",
        "df_train = df_full_sample_reframed[0:int(n*0.8)]\n",
        "\n",
        "df_test = df_full_sample_reframed[int(n*0.8):]\n",
        "\n",
        "\n",
        "train_mean = df_train.mean()\n",
        "train_std = df_train.std()\n",
        "\n",
        "df_train = (df_train - train_mean) / train_std\n",
        "df_test = (df_test - train_mean) / train_std"
      ],
      "execution_count": 7,
      "outputs": []
    },
    {
      "cell_type": "code",
      "metadata": {
        "id": "WX2Vgvo66lVy",
        "outputId": "c99d6826-3df1-4ae6-dd39-543013b55a5e",
        "colab": {
          "base_uri": "https://localhost:8080/",
          "height": 34
        }
      },
      "source": [
        "# split into input and outputs\n",
        "n_obs = n_hours * n_features\n",
        "train_X, train_y = df_train.values[:, :n_obs], df_train.values[:, n_obs:]\n",
        "test_X, test_y = df_test.values[:, :n_obs], df_test.values[:, n_obs:]\n",
        "print(train_X.shape, train_y.shape, test_X.shape, test_y.shape)"
      ],
      "execution_count": 8,
      "outputs": [
        {
          "output_type": "stream",
          "text": [
            "(804416, 192) (804416, 24) (201105, 192) (201105, 24)\n"
          ],
          "name": "stdout"
        }
      ]
    },
    {
      "cell_type": "code",
      "metadata": {
        "id": "ctYlnkS36xyI",
        "outputId": "8eb28f92-f9ac-4293-c2d2-a5d02a28bca5",
        "colab": {
          "base_uri": "https://localhost:8080/",
          "height": 564
        }
      },
      "source": [
        "automl  = autosklearn.regression.AutoSklearnRegressor(\n",
        "    time_left_for_this_task=5*60,\n",
        "    per_run_time_limit=30,\n",
        "    include_estimators=['libsvm_svr'],\n",
        "    resampling_strategy='holdout',\n",
        "    resampling_strategy_arguments={'train_size': 0.75},\n",
        "    ensemble_memory_limit=2*1024,\n",
        "    ml_memory_limit=5*1024,\n",
        "    metric=autosklearn.metrics.mean_absolute_error\n",
        ")\n",
        "\n",
        "from sklearn.multioutput import RegressorChain\n",
        "wrapper = RegressorChain(automl)\n",
        "wrapper.fit(train_X, train_y)"
      ],
      "execution_count": 29,
      "outputs": [
        {
          "output_type": "stream",
          "text": [
            "/usr/local/lib/python3.6/dist-packages/sklearn/base.py:197: FutureWarning: From version 0.24, get_params will raise an AttributeError if a parameter cannot be retrieved as an instance attribute. Previously it would return None.\n",
            "  FutureWarning)\n",
            "/usr/local/lib/python3.6/dist-packages/sklearn/base.py:197: FutureWarning: From version 0.24, get_params will raise an AttributeError if a parameter cannot be retrieved as an instance attribute. Previously it would return None.\n",
            "  FutureWarning)\n"
          ],
          "name": "stderr"
        },
        {
          "output_type": "execute_result",
          "data": {
            "text/plain": [
              "RegressorChain(base_estimator=AutoSklearnRegressor(dask_client=None,\n",
              "                                                   delete_output_folder_after_terminate=True,\n",
              "                                                   delete_tmp_folder_after_terminate=True,\n",
              "                                                   disable_evaluator_output=False,\n",
              "                                                   ensemble_memory_limit=2048,\n",
              "                                                   ensemble_nbest=50,\n",
              "                                                   ensemble_size=50,\n",
              "                                                   exclude_estimators=None,\n",
              "                                                   exclude_preprocessors=None,\n",
              "                                                   get_smac_object_callback=None,\n",
              "                                                   include_estimators=['libsvm...\n",
              "                                                   initial_configurations_via_metalearning=25,\n",
              "                                                   logging_config=None,\n",
              "                                                   max_models_on_disc=50,\n",
              "                                                   metadata_directory=None,\n",
              "                                                   metric=None,\n",
              "                                                   ml_memory_limit=5120,\n",
              "                                                   n_jobs=None,\n",
              "                                                   output_folder=None,\n",
              "                                                   per_run_time_limit=30,\n",
              "                                                   resampling_strategy='holdout',\n",
              "                                                   resampling_strategy_arguments={'train_size': 0.75},\n",
              "                                                   seed=1,\n",
              "                                                   smac_scenario_args=None,\n",
              "                                                   time_left_for_this_task=300,\n",
              "                                                   tmp_folder=None),\n",
              "               cv=None, order=None, random_state=None)"
            ]
          },
          "metadata": {
            "tags": []
          },
          "execution_count": 29
        }
      ]
    },
    {
      "cell_type": "code",
      "metadata": {
        "id": "yQX-tkPj8giQ",
        "outputId": "73aa5720-d60f-4c7a-ab48-527470b8088d",
        "colab": {
          "base_uri": "https://localhost:8080/",
          "height": 85
        }
      },
      "source": [
        "# Print prediction score and statistics\n",
        "# =====================================\n",
        "from sklearn.metrics import r2_score\n",
        "pred_y = wrapper.predict(test_X)\n",
        "#print(wrapper.sprint_statistics())\n",
        "print(\"MAE score: \", mean_absolute_error(pred_y, test_y))\n",
        "print(\"RMSE score: \", mean_squared_error(pred_y, test_y, squared=True))\n",
        "print(\"MAPE score: \", np.mean(tf.keras.losses.mape(test_y, pred_y).numpy()))\n",
        "#print(automl.show_models())\n",
        "r2_score(test_y, pred_y)"
      ],
      "execution_count": 34,
      "outputs": [
        {
          "output_type": "stream",
          "text": [
            "MAE score:  0.4695889855288702\n",
            "RMSE score:  0.4224103313924225\n",
            "MAPE score:  100.36293795652037\n"
          ],
          "name": "stdout"
        },
        {
          "output_type": "execute_result",
          "data": {
            "text/plain": [
              "-0.13572944947685708"
            ]
          },
          "metadata": {
            "tags": []
          },
          "execution_count": 34
        }
      ]
    }
  ]
}